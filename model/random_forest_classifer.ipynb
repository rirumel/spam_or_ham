{
 "cells": [
  {
   "cell_type": "markdown",
   "id": "d3f3ee1f",
   "metadata": {},
   "source": [
    "# Import Python Libraries"
   ]
  },
  {
   "cell_type": "code",
   "execution_count": 1,
   "id": "51cb0c74",
   "metadata": {},
   "outputs": [
    {
     "name": "stderr",
     "output_type": "stream",
     "text": [
      "C:\\Users\\ASUS\\Anaconda3\\lib\\site-packages\\numpy\\_distributor_init.py:32: UserWarning: loaded more than 1 DLL from .libs:\n",
      "C:\\Users\\ASUS\\Anaconda3\\lib\\site-packages\\numpy\\.libs\\libopenblas.WCDJNK7YVMPZQ2ME2ZZHJJRJ3JIKNDB7.gfortran-win_amd64.dll\n",
      "C:\\Users\\ASUS\\Anaconda3\\lib\\site-packages\\numpy\\.libs\\libopenblas.XWYDX2IKJW2NMTWSFYNGFUWKQU3LYTCZ.gfortran-win_amd64.dll\n",
      "  stacklevel=1)\n"
     ]
    }
   ],
   "source": [
    "import pandas as pd\n",
    "import numpy as np\n",
    "\n",
    "import matplotlib.pyplot as plt\n",
    "import seaborn as sns\n",
    "sns.set()\n",
    "\n",
    "import re\n",
    "import string\n",
    "from nltk.tokenize import word_tokenize\n",
    "from nltk.corpus import stopwords\n",
    "from nltk.stem import PorterStemmer\n",
    "\n",
    "from sklearn.model_selection import train_test_split\n",
    "from sklearn.feature_extraction.text import TfidfVectorizer\n",
    "import pickle\n",
    "from sklearn.metrics import accuracy_score, precision_score, recall_score, f1_score, confusion_matrix\n",
    "from sklearn.ensemble import RandomForestClassifier\n",
    "import joblib"
   ]
  },
  {
   "cell_type": "markdown",
   "id": "675b00bf",
   "metadata": {},
   "source": [
    "# Import Dataset"
   ]
  },
  {
   "cell_type": "code",
   "execution_count": 2,
   "id": "8e51e317",
   "metadata": {},
   "outputs": [],
   "source": [
    "ds = pd.read_csv('F:/data_glacier_internship/week4/dataset/SPAM text message 20170820 - Data.csv')"
   ]
  },
  {
   "cell_type": "markdown",
   "id": "70ef6e0f",
   "metadata": {},
   "source": [
    "# Explore and Understand the dataset"
   ]
  },
  {
   "cell_type": "code",
   "execution_count": 3,
   "id": "469a29e5",
   "metadata": {
    "scrolled": true
   },
   "outputs": [
    {
     "data": {
      "text/html": [
       "<div>\n",
       "<style scoped>\n",
       "    .dataframe tbody tr th:only-of-type {\n",
       "        vertical-align: middle;\n",
       "    }\n",
       "\n",
       "    .dataframe tbody tr th {\n",
       "        vertical-align: top;\n",
       "    }\n",
       "\n",
       "    .dataframe thead th {\n",
       "        text-align: right;\n",
       "    }\n",
       "</style>\n",
       "<table border=\"1\" class=\"dataframe\">\n",
       "  <thead>\n",
       "    <tr style=\"text-align: right;\">\n",
       "      <th></th>\n",
       "      <th>Category</th>\n",
       "      <th>Message</th>\n",
       "    </tr>\n",
       "  </thead>\n",
       "  <tbody>\n",
       "    <tr>\n",
       "      <th>0</th>\n",
       "      <td>ham</td>\n",
       "      <td>Go until jurong point, crazy.. Available only ...</td>\n",
       "    </tr>\n",
       "    <tr>\n",
       "      <th>1</th>\n",
       "      <td>ham</td>\n",
       "      <td>Ok lar... Joking wif u oni...</td>\n",
       "    </tr>\n",
       "    <tr>\n",
       "      <th>2</th>\n",
       "      <td>spam</td>\n",
       "      <td>Free entry in 2 a wkly comp to win FA Cup fina...</td>\n",
       "    </tr>\n",
       "    <tr>\n",
       "      <th>3</th>\n",
       "      <td>ham</td>\n",
       "      <td>U dun say so early hor... U c already then say...</td>\n",
       "    </tr>\n",
       "    <tr>\n",
       "      <th>4</th>\n",
       "      <td>ham</td>\n",
       "      <td>Nah I don't think he goes to usf, he lives aro...</td>\n",
       "    </tr>\n",
       "  </tbody>\n",
       "</table>\n",
       "</div>"
      ],
      "text/plain": [
       "  Category                                            Message\n",
       "0      ham  Go until jurong point, crazy.. Available only ...\n",
       "1      ham                      Ok lar... Joking wif u oni...\n",
       "2     spam  Free entry in 2 a wkly comp to win FA Cup fina...\n",
       "3      ham  U dun say so early hor... U c already then say...\n",
       "4      ham  Nah I don't think he goes to usf, he lives aro..."
      ]
     },
     "execution_count": 3,
     "metadata": {},
     "output_type": "execute_result"
    }
   ],
   "source": [
    "ds.head()"
   ]
  },
  {
   "cell_type": "markdown",
   "id": "772a1dd9",
   "metadata": {},
   "source": [
    "The dataset contains two columns and both contains categorical values"
   ]
  },
  {
   "cell_type": "code",
   "execution_count": 4,
   "id": "4f3971b3",
   "metadata": {},
   "outputs": [
    {
     "data": {
      "text/plain": [
       "(5572, 2)"
      ]
     },
     "execution_count": 4,
     "metadata": {},
     "output_type": "execute_result"
    }
   ],
   "source": [
    "ds.shape"
   ]
  },
  {
   "cell_type": "markdown",
   "id": "538b8f09",
   "metadata": {},
   "source": [
    "The dataset contains 5572 observations, and 2 features."
   ]
  },
  {
   "cell_type": "code",
   "execution_count": 5,
   "id": "83f937e1",
   "metadata": {},
   "outputs": [
    {
     "data": {
      "text/plain": [
       "Category    0\n",
       "Message     0\n",
       "dtype: int64"
      ]
     },
     "execution_count": 5,
     "metadata": {},
     "output_type": "execute_result"
    }
   ],
   "source": [
    "ds.isnull().sum()"
   ]
  },
  {
   "cell_type": "markdown",
   "id": "c3d06a9d",
   "metadata": {},
   "source": [
    "Good news! It's a complete dataset. It means the dataset doesn't contain any null values."
   ]
  },
  {
   "cell_type": "code",
   "execution_count": 6,
   "id": "6cebee5a",
   "metadata": {},
   "outputs": [
    {
     "data": {
      "text/plain": [
       "ham     4825\n",
       "spam     747\n",
       "Name: Category, dtype: int64"
      ]
     },
     "execution_count": 6,
     "metadata": {},
     "output_type": "execute_result"
    }
   ],
   "source": [
    "ds['Category'].value_counts()"
   ]
  },
  {
   "cell_type": "code",
   "execution_count": 7,
   "id": "ad7a2cb8",
   "metadata": {},
   "outputs": [
    {
     "data": {
      "image/png": "[encoded data removed]",
      "text/plain": [
       "<Figure size 640x480 with 2 Axes>"
      ]
     },
     "metadata": {},
     "output_type": "display_data"
    }
   ],
   "source": [
    "class_labels = ['Spam', 'Ham']\n",
    "data_sizes = [747, 4825]\n",
    "colors = ['#ffa6a6', '#a6f2ff']\n",
    "\n",
    "plt.subplot(1, 2, 1)\n",
    "plt.pie(data_sizes, labels = class_labels, startangle=120, autopct='%1.0f%%', colors=colors, wedgeprops={'linewidth':3,'edgecolor':'white'})\n",
    "\n",
    "plt.subplot(1, 2, 2)\n",
    "sns.barplot(x = ds['Category'].unique(), y = ds['Category'].value_counts(), palette= 'ocean')\n",
    "\n",
    "plt.show()"
   ]
  },
  {
   "cell_type": "markdown",
   "id": "9031b9d2",
   "metadata": {},
   "source": [
    "In the dataset, in total 13% of the total messages are spam and the rest (87%) is ham messages."
   ]
  },
  {
   "cell_type": "markdown",
   "id": "5501b3a1",
   "metadata": {},
   "source": [
    "# Preprocessing the dataset"
   ]
  },
  {
   "cell_type": "code",
   "execution_count": 8,
   "id": "8d4f0353",
   "metadata": {},
   "outputs": [],
   "source": [
    "#Convert text to lowercase:\n",
    "def convert_text_to_lowercase(text):\n",
    "    return text.lower()\n",
    "\n",
    "#Remove URLs from text:\n",
    "def remove_urls(text):\n",
    "    url_pattern = re.compile(r'https?://\\S+|www\\.\\S+')\n",
    "    return url_pattern.sub('', text)\n",
    "\n",
    "#Remove punctuations from text:\n",
    "def remove_punctuation(text):\n",
    "    # Create a translator object to remove punctuation\n",
    "    translator = text.maketrans('', '', string.punctuation)\n",
    "    return text.translate(translator)\n",
    "\n",
    "#Remove stopwords from text:\n",
    "def remove_stopwords(text):\n",
    "    # Tokenize the text\n",
    "    words = word_tokenize(text)\n",
    "    # Get a list of stopwords in English\n",
    "    stopwords_list = stopwords.words('english')\n",
    "    # Use a list comprehension to remove stopwords\n",
    "    filtered_words = [word for word in words if word.lower() not in stopwords_list]\n",
    "    # Join the filtered words to form the final text\n",
    "    filtered_text = ' '.join(filtered_words)\n",
    "    return filtered_text\n",
    "\n",
    "#Stemming on text:\n",
    "def perform_stemming(text):\n",
    "    stemmer = PorterStemmer()\n",
    "    # Tokenize the text\n",
    "    words = word_tokenize(text)\n",
    "    stemmed_words = [stemmer.stem(word) for word in words]\n",
    "    stemmed_text = ' '.join(stemmed_words)\n",
    "    return stemmed_text"
   ]
  },
  {
   "cell_type": "code",
   "execution_count": 9,
   "id": "fdbb8feb",
   "metadata": {},
   "outputs": [],
   "source": [
    "ds['Message'] = ds['Message'].apply(convert_text_to_lowercase)\n",
    "ds['Message'] = ds['Message'].apply(remove_urls)\n",
    "ds['Message'] = ds['Message'].apply(remove_punctuation)\n",
    "ds['Message'] = ds['Message'].apply(remove_stopwords)\n",
    "ds['Message'] = ds['Message'].apply(perform_stemming)"
   ]
  },
  {
   "cell_type": "code",
   "execution_count": 10,
   "id": "8facf477",
   "metadata": {},
   "outputs": [
    {
     "data": {
      "text/html": [
       "<div>\n",
       "<style scoped>\n",
       "    .dataframe tbody tr th:only-of-type {\n",
       "        vertical-align: middle;\n",
       "    }\n",
       "\n",
       "    .dataframe tbody tr th {\n",
       "        vertical-align: top;\n",
       "    }\n",
       "\n",
       "    .dataframe thead th {\n",
       "        text-align: right;\n",
       "    }\n",
       "</style>\n",
       "<table border=\"1\" class=\"dataframe\">\n",
       "  <thead>\n",
       "    <tr style=\"text-align: right;\">\n",
       "      <th></th>\n",
       "      <th>Category</th>\n",
       "      <th>Message</th>\n",
       "    </tr>\n",
       "  </thead>\n",
       "  <tbody>\n",
       "    <tr>\n",
       "      <th>0</th>\n",
       "      <td>ham</td>\n",
       "      <td>go jurong point crazi avail bugi n great world...</td>\n",
       "    </tr>\n",
       "    <tr>\n",
       "      <th>1</th>\n",
       "      <td>ham</td>\n",
       "      <td>ok lar joke wif u oni</td>\n",
       "    </tr>\n",
       "    <tr>\n",
       "      <th>2</th>\n",
       "      <td>spam</td>\n",
       "      <td>free entri 2 wkli comp win fa cup final tkt 21...</td>\n",
       "    </tr>\n",
       "    <tr>\n",
       "      <th>3</th>\n",
       "      <td>ham</td>\n",
       "      <td>u dun say earli hor u c alreadi say</td>\n",
       "    </tr>\n",
       "    <tr>\n",
       "      <th>4</th>\n",
       "      <td>ham</td>\n",
       "      <td>nah dont think goe usf live around though</td>\n",
       "    </tr>\n",
       "  </tbody>\n",
       "</table>\n",
       "</div>"
      ],
      "text/plain": [
       "  Category                                            Message\n",
       "0      ham  go jurong point crazi avail bugi n great world...\n",
       "1      ham                              ok lar joke wif u oni\n",
       "2     spam  free entri 2 wkli comp win fa cup final tkt 21...\n",
       "3      ham                u dun say earli hor u c alreadi say\n",
       "4      ham          nah dont think goe usf live around though"
      ]
     },
     "execution_count": 10,
     "metadata": {},
     "output_type": "execute_result"
    }
   ],
   "source": [
    "#Let's not look into the dataset once again:\n",
    "ds.head()"
   ]
  },
  {
   "cell_type": "markdown",
   "id": "cdf4118c",
   "metadata": {},
   "source": [
    "# Create Train and Test set"
   ]
  },
  {
   "cell_type": "code",
   "execution_count": 11,
   "id": "e48849df",
   "metadata": {},
   "outputs": [],
   "source": [
    "# Assign the features and target variables\n",
    "X = ds[\"Message\"].values\n",
    "y = ds['Category'].values\n",
    "\n",
    "# Split the data into train and test sets with stratification\n",
    "X_train, X_test, y_train, y_test = train_test_split(X, y, test_size=0.2, random_state=42, stratify=y)"
   ]
  },
  {
   "cell_type": "code",
   "execution_count": 12,
   "id": "82489d81",
   "metadata": {},
   "outputs": [
    {
     "name": "stdout",
     "output_type": "stream",
     "text": [
      "The length of the trainset is:  4457\n"
     ]
    }
   ],
   "source": [
    "print('The length of the trainset is: ',len(X_train))"
   ]
  },
  {
   "cell_type": "code",
   "execution_count": 13,
   "id": "9008f3a4",
   "metadata": {},
   "outputs": [
    {
     "name": "stdout",
     "output_type": "stream",
     "text": [
      "The length of the trainset is:  1115\n"
     ]
    }
   ],
   "source": [
    "print('The length of the trainset is: ',len(X_test))"
   ]
  },
  {
   "cell_type": "code",
   "execution_count": 14,
   "id": "c90ff52c",
   "metadata": {},
   "outputs": [],
   "source": [
    "# Define the TF-IDF vectorizer\n",
    "tfidf = TfidfVectorizer()\n",
    "\n",
    "# Fit and transform the vectorizer on the train data\n",
    "X_train = tfidf.fit_transform(X_train).toarray()\n",
    "\n",
    "# Transform the test data using the fitted vectorizer\n",
    "X_test = tfidf.transform(X_test).toarray()"
   ]
  },
  {
   "cell_type": "code",
   "execution_count": 15,
   "id": "9e4a9ebb",
   "metadata": {},
   "outputs": [],
   "source": [
    "# save the model to disk\n",
    "filename = 'F:/data_glacier_internship/week4/model/tfidf_vectorizer.pkl'\n",
    "pickle.dump(tfidf, open(filename, 'wb'))"
   ]
  },
  {
   "cell_type": "markdown",
   "id": "435e95a7",
   "metadata": {},
   "source": [
    "# Define training and testing a model"
   ]
  },
  {
   "cell_type": "code",
   "execution_count": 17,
   "id": "67744250",
   "metadata": {},
   "outputs": [],
   "source": [
    "def train_model(model, model_file):\n",
    "    # Fit the model on the train data\n",
    "    model.fit(X_train, y_train)\n",
    "    \n",
    "    # Make predictions on the test data\n",
    "    y_pred = model.predict(X_test)\n",
    "    y_prob = model.predict_proba(X_test)\n",
    "    \n",
    "    # Compute evaluation metrics\n",
    "    accuracy = round(accuracy_score(y_test, y_pred), 3)\n",
    "    precision = round(precision_score(y_test, y_pred, average='weighted'), 3)\n",
    "    recall = round(recall_score(y_test, y_pred, average='weighted'), 3)\n",
    "    f1 = round(f1_score(y_test, y_pred, average='weighted'), 3)\n",
    "    \n",
    "    # Print evaluation metrics\n",
    "    print(f'Accuracy of the model: {accuracy}')\n",
    "    print(f'Precision Score of the model: {precision}')\n",
    "    print(f'Recall Score of the model: {recall}')\n",
    "    print(f'F1 Score of the model: {f1}')\n",
    "    print(f'Confusion matrix : {confusion_matrix(y_test, y_pred)}')\n",
    "    \n",
    "    with open(model_file, 'wb') as f:\n",
    "        pickle.dump(model, f)\n",
    "    print(f'Model saved to {model_file}')"
   ]
  },
  {
   "cell_type": "markdown",
   "id": "8dc83049",
   "metadata": {},
   "source": [
    "# Define, Train, Test, and Save a model"
   ]
  },
  {
   "cell_type": "code",
   "execution_count": 18,
   "id": "412f1dfb",
   "metadata": {},
   "outputs": [],
   "source": [
    "model_file = 'F:/data_glacier_internship/week4/model/trained_model.pkl'\n",
    "\n",
    "rfc = RandomForestClassifier(n_estimators= 300)\n",
    "train_model(rfc, model_file)"
   ]
  },
  {
   "cell_type": "markdown",
   "id": "e0823db3",
   "metadata": {},
   "source": [
    "Random Forest Classifier performed really well with the dataset. The accuracy of the model is almost 98%."
   ]
  },
  {
   "cell_type": "markdown",
   "id": "1b7c01c4",
   "metadata": {},
   "source": [
    "# Test the model"
   ]
  },
  {
   "cell_type": "code",
   "execution_count": 19,
   "id": "c2727099",
   "metadata": {},
   "outputs": [],
   "source": [
    "with open(model_file, 'rb') as f:\n",
    "    loaded_model = pickle.load(f)"
   ]
  },
  {
   "cell_type": "code",
   "execution_count": 20,
   "id": "763c3012",
   "metadata": {},
   "outputs": [],
   "source": [
    "# load the model from disk\n",
    "loaded_tfidf = pickle.load(open(filename, 'rb'))"
   ]
  },
  {
   "cell_type": "code",
   "execution_count": 25,
   "id": "cd284206",
   "metadata": {},
   "outputs": [],
   "source": [
    "comment = [\"WINNER!! As a valued network customer you have been selected to receivea £900 prize reward! To claim call 09061701461. Claim code KL341. Valid 12 hours only.\"]\n",
    "comment = np.asarray(comment)\n",
    "comment = loaded_tfidf.transform(comment).toarray()"
   ]
  },
  {
   "cell_type": "code",
   "execution_count": 26,
   "id": "7f61fe79",
   "metadata": {},
   "outputs": [
    {
     "data": {
      "text/plain": [
       "(1, 7051)"
      ]
     },
     "execution_count": 26,
     "metadata": {},
     "output_type": "execute_result"
    }
   ],
   "source": [
    "comment.shape"
   ]
  },
  {
   "cell_type": "code",
   "execution_count": 27,
   "id": "cca8786f",
   "metadata": {},
   "outputs": [],
   "source": [
    "pred_test = loaded_model.predict(comment)"
   ]
  },
  {
   "cell_type": "code",
   "execution_count": 28,
   "id": "5788dd45",
   "metadata": {},
   "outputs": [
    {
     "data": {
      "text/plain": [
       "array(['spam'], dtype=object)"
      ]
     },
     "execution_count": 28,
     "metadata": {},
     "output_type": "execute_result"
    }
   ],
   "source": [
    "pred_test"
   ]
  },
  {
   "cell_type": "code",
   "execution_count": null,
   "id": "af164620",
   "metadata": {},
   "outputs": [],
   "source": []
  }
 ],
 "metadata": {
  "kernelspec": {
   "display_name": "Python 3 (ipykernel)",
   "language": "python",
   "name": "python3"
  },
  "language_info": {
   "codemirror_mode": {
    "name": "ipython",
    "version": 3
   },
   "file_extension": ".py",
   "mimetype": "text/x-python",
   "name": "python",
   "nbconvert_exporter": "python",
   "pygments_lexer": "ipython3",
   "version": "3.7.3"
  }
 },
 "nbformat": 4,
 "nbformat_minor": 5
}
